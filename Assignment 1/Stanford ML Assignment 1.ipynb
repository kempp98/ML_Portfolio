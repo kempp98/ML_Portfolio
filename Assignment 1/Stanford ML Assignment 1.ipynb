{
 "cells": [
  {
   "cell_type": "code",
   "execution_count": 1,
   "metadata": {},
   "outputs": [],
   "source": [
    "import pandas as pd\n",
    "import numpy as np\n",
    "\n",
    "reg_data = pd.read_csv(\"ex1data1.txt\", sep=\",\", header = None)\n",
    "reg_data.columns = ['X1', 'Y']"
   ]
  },
  {
   "cell_type": "code",
   "execution_count": 2,
   "metadata": {},
   "outputs": [
    {
     "data": {
      "text/html": [
       "<div>\n",
       "<style scoped>\n",
       "    .dataframe tbody tr th:only-of-type {\n",
       "        vertical-align: middle;\n",
       "    }\n",
       "\n",
       "    .dataframe tbody tr th {\n",
       "        vertical-align: top;\n",
       "    }\n",
       "\n",
       "    .dataframe thead th {\n",
       "        text-align: right;\n",
       "    }\n",
       "</style>\n",
       "<table border=\"1\" class=\"dataframe\">\n",
       "  <thead>\n",
       "    <tr style=\"text-align: right;\">\n",
       "      <th></th>\n",
       "      <th>X1</th>\n",
       "      <th>Y</th>\n",
       "    </tr>\n",
       "  </thead>\n",
       "  <tbody>\n",
       "    <tr>\n",
       "      <th>0</th>\n",
       "      <td>6.1101</td>\n",
       "      <td>17.5920</td>\n",
       "    </tr>\n",
       "    <tr>\n",
       "      <th>1</th>\n",
       "      <td>5.5277</td>\n",
       "      <td>9.1302</td>\n",
       "    </tr>\n",
       "    <tr>\n",
       "      <th>2</th>\n",
       "      <td>8.5186</td>\n",
       "      <td>13.6620</td>\n",
       "    </tr>\n",
       "    <tr>\n",
       "      <th>3</th>\n",
       "      <td>7.0032</td>\n",
       "      <td>11.8540</td>\n",
       "    </tr>\n",
       "    <tr>\n",
       "      <th>4</th>\n",
       "      <td>5.8598</td>\n",
       "      <td>6.8233</td>\n",
       "    </tr>\n",
       "  </tbody>\n",
       "</table>\n",
       "</div>"
      ],
      "text/plain": [
       "       X1        Y\n",
       "0  6.1101  17.5920\n",
       "1  5.5277   9.1302\n",
       "2  8.5186  13.6620\n",
       "3  7.0032  11.8540\n",
       "4  5.8598   6.8233"
      ]
     },
     "execution_count": 2,
     "metadata": {},
     "output_type": "execute_result"
    }
   ],
   "source": [
    "reg_data.head()"
   ]
  },
  {
   "cell_type": "code",
   "execution_count": 17,
   "metadata": {},
   "outputs": [
    {
     "data": {
      "image/png": "[encoded data removed]",
      "text/plain": [
       "<Figure size 432x288 with 1 Axes>"
      ]
     },
     "metadata": {
      "needs_background": "light"
     },
     "output_type": "display_data"
    }
   ],
   "source": [
    "#Replicate the graphic from the assignment in matplotlib\n",
    "import matplotlib.pyplot as plt\n",
    "%matplotlib inline\n",
    "\n",
    "plt.scatter(reg_data['X1'], reg_data['Y'], marker = \"x\", color = \"red\")\n",
    "plt.xlabel(\"Population of City in 10,000s\")\n",
    "plt.ylabel(\"Profit in $10,000s\")\n",
    "plt.show()"
   ]
  },
  {
   "cell_type": "code",
   "execution_count": 3,
   "metadata": {},
   "outputs": [],
   "source": [
    "#Functions used to implement assignment\n",
    "#Generalize later, currently only works for univariate regression as in the homework\n",
    "#Requires explicit renaming of variables in dataset prior to using the below function\n",
    "def create_design(df, target = 'Y'):\n",
    "    \"\"\"\n",
    "    Takes the dataframe of all data, extract target, and augment X matrix with column of 1's\n",
    "    \n",
    "    Parameters:\n",
    "    ===========\n",
    "    df (pd.DataFrame):\n",
    "        The dataframe of training data. Contains p-1 predictor columns, and 1 target column, named target.\n",
    "        \n",
    "    target (char):\n",
    "        A character value representing the column name of the target variable.\n",
    "        \n",
    "        \n",
    "    Return:\n",
    "    ===========\n",
    "    (X,Y) (A tuple of dataframes):\n",
    "        A tuple where elemen 0 is the X dataframe, and element 1 is the Y dataframe.\n",
    "        Function should be called like: X,Y = create_design(df,target=\"targ_name\").\n",
    "    \n",
    "    \"\"\"\n",
    "    Y = df.loc[:,target]\n",
    "    X = df.drop(target, axis = 1)\n",
    "    X0 = pd.DataFrame(np.ones(len(df)), columns = [\"X0\"])\n",
    "    X = pd.concat([X0,X], axis = 1)\n",
    "    \n",
    "    return (X,Y)\n",
    "\n",
    "def compute_cost(X, Y, theta):\n",
    "    \"\"\"\n",
    "    Computes the value of the cost function for linear regression.\n",
    "    \n",
    "    \n",
    "    Parameters:\n",
    "    ============\n",
    "    X (pd.DataFrame):\n",
    "        Dataframe of predictor variables from create_design()\n",
    "        \n",
    "    Y (pd.DataFrame or pd.Series):\n",
    "        Dataframe or series of target variable from create_design()\n",
    "        \n",
    "    theta (np.ndarray):\n",
    "        Array of parameter values at which to evaluate the cost function\n",
    "        \n",
    "    Return:\n",
    "    ============\n",
    "    Float value for the evluation of the cost function at parameters theta.\n",
    "    \n",
    "    \n",
    "    \n",
    "    *Note: This function is written for the specific use case of linear regression. I aim to generalize this code to evaluate \n",
    "    any user supplied cost function, using the arguments X,Y, and theta.\n",
    "    \n",
    "    \"\"\"\n",
    "    return (1/(2*len(X))) * sum(pow((X.dot(theta) - Y),2))\n",
    "\n",
    "\n",
    "def gradient_descent(X,Y,theta = 0,alpha = .01,iters=5):\n",
    "    \"\"\"\n",
    "    Implements batch gradient descent for univariate linear regression with an intercept.\n",
    "    \n",
    "    \n",
    "    Parameters:\n",
    "    ============\n",
    "    X (pd.DataFrame):\n",
    "        Dataframe of predictor variables from create_design()\n",
    "        \n",
    "    Y (pd.DataFrame or pd.Series):\n",
    "        Dataframe or series of target variable from create_design()\n",
    "        \n",
    "    theta (np.ndarray):\n",
    "        Array of parameter values at which to evaluate the cost function.\n",
    "        Default init_theta, which should be the name of initialized parameter values.\n",
    "        \n",
    "    alpha (float):\n",
    "        Value for the learning rate. Default .01.\n",
    "        \n",
    "    iters (int):\n",
    "        Number of iterations of gradient descent to perform. Default 5. \n",
    "        Currently no functionality for custom stopping. Must supply number of iterations.\n",
    "    \n",
    "    Return:\n",
    "    ==========\n",
    "    (theta, cost) (Tuple of np.ndarrays):\n",
    "        theta contains the final parameter values for theta\n",
    "        cost is a vector of the value for the cost function at each iteration, for plotting to observe behavior\n",
    "    \"\"\"\n",
    "    cost = np.empty(iters)\n",
    "    for i in range(0,iters - 1):\n",
    "        temp_0 = theta[0] - alpha * (1/len(X)) * sum((X.dot(theta) - Y) * X.iloc[:,0])\n",
    "        temp_1 = theta[1] - alpha * (1/len(X)) * sum((X.dot(theta) - Y) * X.iloc[:,1])\n",
    "        theta[0] = temp_0\n",
    "        theta[1] = temp_1\n",
    "        cost[i] = compute_cost(X,Y,theta)\n",
    "        \n",
    "    return(theta,cost)\n",
    "\n",
    "\n",
    "def gradient_descent2(X,Y,theta = 0,alpha = .01,iters=5):\n",
    "    \"\"\"\n",
    "    Vectorized implementation of above gradient_descent(), to allow for more easily extending dimensions of the data used\n",
    "    in the gradient descent algorithm.\n",
    "    \n",
    "    \"\"\"\n",
    "    cost = np.empty(iters)\n",
    "    for i in range(0,iters - 1):\n",
    "        temp_theta = theta - alpha * (1/len(X)) * (X.dot(theta) - Y).dot(X)\n",
    "        theta = temp_theta\n",
    "        cost[i] = compute_cost(X,Y,theta)\n",
    "        \n",
    "    return(theta,cost)\n"
   ]
  },
  {
   "cell_type": "code",
   "execution_count": 4,
   "metadata": {},
   "outputs": [
    {
     "data": {
      "text/html": [
       "<div>\n",
       "<style scoped>\n",
       "    .dataframe tbody tr th:only-of-type {\n",
       "        vertical-align: middle;\n",
       "    }\n",
       "\n",
       "    .dataframe tbody tr th {\n",
       "        vertical-align: top;\n",
       "    }\n",
       "\n",
       "    .dataframe thead th {\n",
       "        text-align: right;\n",
       "    }\n",
       "</style>\n",
       "<table border=\"1\" class=\"dataframe\">\n",
       "  <thead>\n",
       "    <tr style=\"text-align: right;\">\n",
       "      <th></th>\n",
       "      <th>X0</th>\n",
       "      <th>X1</th>\n",
       "    </tr>\n",
       "  </thead>\n",
       "  <tbody>\n",
       "    <tr>\n",
       "      <th>0</th>\n",
       "      <td>1.0</td>\n",
       "      <td>6.1101</td>\n",
       "    </tr>\n",
       "    <tr>\n",
       "      <th>1</th>\n",
       "      <td>1.0</td>\n",
       "      <td>5.5277</td>\n",
       "    </tr>\n",
       "    <tr>\n",
       "      <th>2</th>\n",
       "      <td>1.0</td>\n",
       "      <td>8.5186</td>\n",
       "    </tr>\n",
       "    <tr>\n",
       "      <th>3</th>\n",
       "      <td>1.0</td>\n",
       "      <td>7.0032</td>\n",
       "    </tr>\n",
       "    <tr>\n",
       "      <th>4</th>\n",
       "      <td>1.0</td>\n",
       "      <td>5.8598</td>\n",
       "    </tr>\n",
       "  </tbody>\n",
       "</table>\n",
       "</div>"
      ],
      "text/plain": [
       "    X0      X1\n",
       "0  1.0  6.1101\n",
       "1  1.0  5.5277\n",
       "2  1.0  8.5186\n",
       "3  1.0  7.0032\n",
       "4  1.0  5.8598"
      ]
     },
     "execution_count": 4,
     "metadata": {},
     "output_type": "execute_result"
    }
   ],
   "source": [
    "X, Y = create_design(reg_data, target = 'Y') \n",
    "X.head()"
   ]
  },
  {
   "cell_type": "code",
   "execution_count": 11,
   "metadata": {},
   "outputs": [],
   "source": [
    "#Initialize the necessary values\n",
    "X, Y = create_design(reg_data, target = 'Y')  \n",
    "init_theta = np.zeros(2)\n",
    "alpha = .01 \n",
    "iterations = 1500"
   ]
  },
  {
   "cell_type": "code",
   "execution_count": 12,
   "metadata": {
    "scrolled": true
   },
   "outputs": [
    {
     "data": {
      "text/plain": [
       "32.072733877455654"
      ]
     },
     "execution_count": 12,
     "metadata": {},
     "output_type": "execute_result"
    }
   ],
   "source": [
    "compute_cost(X,Y,init_theta)"
   ]
  },
  {
   "cell_type": "code",
   "execution_count": 13,
   "metadata": {},
   "outputs": [],
   "source": [
    "theta, cost_vec = gradient_descent2(X,Y,theta=init_theta,alpha=.01,iters=iterations)"
   ]
  },
  {
   "cell_type": "code",
   "execution_count": 18,
   "metadata": {},
   "outputs": [
    {
     "data": {
      "image/png": "[encoded data removed]",
      "text/plain": [
       "<Figure size 432x288 with 1 Axes>"
      ]
     },
     "metadata": {
      "needs_background": "light"
     },
     "output_type": "display_data"
    }
   ],
   "source": [
    "#Recreate plot from assignment with the plotted regression line\n",
    "x = np.linspace(5,25,100)\n",
    "y=theta[0] + theta[1]*x\n",
    "\n",
    "plt.scatter(reg_data['X1'], reg_data['Y'], marker = \"x\", color = \"red\")\n",
    "plt.plot(x,y)\n",
    "plt.xlabel(\"Population of City in 10,000s\")\n",
    "plt.ylabel(\"Profit in $10,000s\")\n",
    "plt.show()"
   ]
  },
  {
   "cell_type": "code",
   "execution_count": 29,
   "metadata": {},
   "outputs": [],
   "source": [
    "mult_data = pd.read_csv(\"ex1data2.txt\", sep=\",\", header = None)\n",
    "mult_data.columns = ['X1', 'X2', 'Y']"
   ]
  },
  {
   "cell_type": "code",
   "execution_count": 31,
   "metadata": {},
   "outputs": [
    {
     "data": {
      "text/html": [
       "<div>\n",
       "<style scoped>\n",
       "    .dataframe tbody tr th:only-of-type {\n",
       "        vertical-align: middle;\n",
       "    }\n",
       "\n",
       "    .dataframe tbody tr th {\n",
       "        vertical-align: top;\n",
       "    }\n",
       "\n",
       "    .dataframe thead th {\n",
       "        text-align: right;\n",
       "    }\n",
       "</style>\n",
       "<table border=\"1\" class=\"dataframe\">\n",
       "  <thead>\n",
       "    <tr style=\"text-align: right;\">\n",
       "      <th></th>\n",
       "      <th>X1</th>\n",
       "      <th>X2</th>\n",
       "      <th>Y</th>\n",
       "    </tr>\n",
       "  </thead>\n",
       "  <tbody>\n",
       "    <tr>\n",
       "      <th>0</th>\n",
       "      <td>2104</td>\n",
       "      <td>3</td>\n",
       "      <td>399900</td>\n",
       "    </tr>\n",
       "    <tr>\n",
       "      <th>1</th>\n",
       "      <td>1600</td>\n",
       "      <td>3</td>\n",
       "      <td>329900</td>\n",
       "    </tr>\n",
       "    <tr>\n",
       "      <th>2</th>\n",
       "      <td>2400</td>\n",
       "      <td>3</td>\n",
       "      <td>369000</td>\n",
       "    </tr>\n",
       "    <tr>\n",
       "      <th>3</th>\n",
       "      <td>1416</td>\n",
       "      <td>2</td>\n",
       "      <td>232000</td>\n",
       "    </tr>\n",
       "    <tr>\n",
       "      <th>4</th>\n",
       "      <td>3000</td>\n",
       "      <td>4</td>\n",
       "      <td>539900</td>\n",
       "    </tr>\n",
       "  </tbody>\n",
       "</table>\n",
       "</div>"
      ],
      "text/plain": [
       "     X1  X2       Y\n",
       "0  2104   3  399900\n",
       "1  1600   3  329900\n",
       "2  2400   3  369000\n",
       "3  1416   2  232000\n",
       "4  3000   4  539900"
      ]
     },
     "execution_count": 31,
     "metadata": {},
     "output_type": "execute_result"
    }
   ],
   "source": [
    "mult_data.head()"
   ]
  },
  {
   "cell_type": "code",
   "execution_count": 32,
   "metadata": {},
   "outputs": [],
   "source": [
    "#Function development for multiple linear regression\n",
    "def normalize_features(feature_df):\n",
    "    \"\"\"\n",
    "    Add docstring here.\n",
    "    \n",
    "    Args:\n",
    "        feature_df: dataframe containing only features, can include intercept column\n",
    "        \n",
    "    Returns:\n",
    "        dataframe with scaled features, dictionary of parameter means and stds\n",
    "        \n",
    "    Raises:\n",
    "        SomeError:\n",
    "        \n",
    "    \"\"\"\n",
    "    params_dict = {}\n",
    "    for col in feature_df.columns:\n",
    "        feature_df[col] = (feature_df[col] - np.mean(feature_df[col]))/np.std(feature_df[col])\n",
    "        params_dict[col] = {\"Mean\" : np.mean(feature_df[col]),\n",
    "                           \"Std\" : np.std(feature_df[col])}\n",
    "        \n",
    "    return feature_df,params_dict"
   ]
  },
  {
   "cell_type": "code",
   "execution_count": 33,
   "metadata": {},
   "outputs": [],
   "source": [
    "X,Y = create_design(mult_data, target= 'Y')\n",
    "init_theta = np.zeros(3)\n",
    "alpha = .01 \n",
    "iterations = 1500"
   ]
  },
  {
   "cell_type": "code",
   "execution_count": 34,
   "metadata": {},
   "outputs": [
    {
     "data": {
      "text/plain": [
       "65591548106.45744"
      ]
     },
     "execution_count": 34,
     "metadata": {},
     "output_type": "execute_result"
    }
   ],
   "source": [
    "compute_cost(X,Y,init_theta)"
   ]
  },
  {
   "cell_type": "code",
   "execution_count": 35,
   "metadata": {},
   "outputs": [],
   "source": [
    "theta, cost_vec = gradient_descent2(X,Y,theta=init_theta,alpha=.01,iters=iterations)"
   ]
  },
  {
   "cell_type": "code",
   "execution_count": 36,
   "metadata": {},
   "outputs": [
    {
     "data": {
      "text/plain": [
       "X0   NaN\n",
       "X1   NaN\n",
       "X2   NaN\n",
       "dtype: float64"
      ]
     },
     "execution_count": 36,
     "metadata": {},
     "output_type": "execute_result"
    }
   ],
   "source": [
    "theta"
   ]
  }
 ],
 "metadata": {
  "kernelspec": {
   "display_name": "Python 3 (ipykernel)",
   "language": "python",
   "name": "python3"
  },
  "language_info": {
   "codemirror_mode": {
    "name": "ipython",
    "version": 3
   },
   "file_extension": ".py",
   "mimetype": "text/x-python",
   "name": "python",
   "nbconvert_exporter": "python",
   "pygments_lexer": "ipython3",
   "version": "3.10.2"
  }
 },
 "nbformat": 4,
 "nbformat_minor": 4
}
